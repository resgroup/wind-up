{
 "cells": [
  {
   "cell_type": "markdown",
   "id": "145b98a5-7c72-446a-b5df-86d02c6b23c6",
   "metadata": {},
   "source": [
    "# Wind-up example using SMARTEOLE dataset\n",
    "\n",
    "Dataset citation:\n",
    "Thomas Duc, & Eric Simley. (2022): [SMARTEOLE Wind Farm Control open dataset (1.0)](https://doi.org/10.5281/zenodo.7342466)\n",
    "\n",
    "See the [wind-up uplift validation methodology](https://github.com/resgroup/wind-up/blob/main/docs/wind-up%20uplift%20validation%20methodology%20v3.pdf) for a description of the calculation methodology."
   ]
  },
  {
   "cell_type": "code",
   "execution_count": 1,
   "id": "6bc89c1a-0b7d-4b2e-beb7-b6cdcfa627af",
   "metadata": {
    "ExecuteTime": {
     "end_time": "2025-04-03T15:41:04.780969Z",
     "start_time": "2025-04-03T15:41:03.265486Z"
    }
   },
   "outputs": [],
   "source": [
    "from helpers import setup_logger\n",
    "\n",
    "setup_logger()"
   ]
  },
  {
   "cell_type": "markdown",
   "id": "c01cd498-34a9-477d-9b65-22053c1e0564",
   "metadata": {},
   "source": [
    "## 1. downloading the open dataset"
   ]
  },
  {
   "cell_type": "code",
   "execution_count": 2,
   "id": "de9489f8-f258-44fc-ad7d-63f23714299a",
   "metadata": {
    "ExecuteTime": {
     "end_time": "2025-04-03T15:41:04.830323Z",
     "start_time": "2025-04-03T15:41:04.793728Z"
    }
   },
   "outputs": [
    {
     "name": "stderr",
     "output_type": "stream",
     "text": [
      "All filenames are locally cached, no download necessary.\n"
     ]
    }
   ],
   "source": [
    "from helpers import download_zenodo_data\n",
    "\n",
    "from wind_up.constants import OUTPUT_DIR, PROJECTROOT_DIR\n",
    "\n",
    "filename = \"SMARTEOLE-WFC-open-dataset.zip\"\n",
    "outpur_dir = PROJECTROOT_DIR / \"tests\" / \"test_data\" / \"smarteole\"\n",
    "\n",
    "download_zenodo_data(\n",
    "    record_id=\"7342466\",\n",
    "    output_dir=outpur_dir,\n",
    "    filenames=[filename],\n",
    "    cache_overwrite=False,  # change to True if you want to force the re-download\n",
    ")"
   ]
  },
  {
   "cell_type": "markdown",
   "id": "7d7a76ec-970f-4af7-ad88-3d92f997620b",
   "metadata": {},
   "source": [
    "## 2. extracting and format the data"
   ]
  },
  {
   "cell_type": "code",
   "execution_count": 3,
   "id": "713a7c25-b340-4851-b8fe-d2ca96571eb6",
   "metadata": {
    "ExecuteTime": {
     "end_time": "2025-04-03T15:41:15.978251Z",
     "start_time": "2025-04-03T15:41:06.047099Z"
    }
   },
   "outputs": [],
   "source": [
    "from smarteole_utils import SmartEoleExtractor\n",
    "\n",
    "analysis_timebase_s = 600\n",
    "\n",
    "extractor = SmartEoleExtractor.from_zip_file(\n",
    "    zipped_fpath=outpur_dir / filename,\n",
    "    analysis_timebase_s=analysis_timebase_s,\n",
    ")"
   ]
  },
  {
   "cell_type": "markdown",
   "id": "60abf22b-0a8c-4fd2-876b-1af3d43989ea",
   "metadata": {},
   "source": [
    "#### 2.1 scada data"
   ]
  },
  {
   "cell_type": "code",
   "execution_count": 4,
   "id": "fa97d149-d877-42d0-9bbd-465f5d54a04c",
   "metadata": {
    "ExecuteTime": {
     "end_time": "2025-04-03T15:41:16.312261Z",
     "start_time": "2025-04-03T15:41:15.997230Z"
    }
   },
   "outputs": [
    {
     "data": {
      "text/html": [
       "<div>\n",
       "<style scoped>\n",
       "    .dataframe tbody tr th:only-of-type {\n",
       "        vertical-align: middle;\n",
       "    }\n",
       "\n",
       "    .dataframe tbody tr th {\n",
       "        vertical-align: top;\n",
       "    }\n",
       "\n",
       "    .dataframe thead th {\n",
       "        text-align: right;\n",
       "    }\n",
       "</style>\n",
       "<table border=\"1\" class=\"dataframe\">\n",
       "  <thead>\n",
       "    <tr style=\"text-align: right;\">\n",
       "      <th></th>\n",
       "      <th>TurbineName</th>\n",
       "      <th>ActivePowerMean</th>\n",
       "      <th>ActivePowerSD</th>\n",
       "      <th>WindSpeedMean</th>\n",
       "      <th>WindSpeedSD</th>\n",
       "      <th>YawAngleMean</th>\n",
       "      <th>YawAngleMin</th>\n",
       "      <th>YawAngleMax</th>\n",
       "      <th>PitchAngleMean</th>\n",
       "      <th>GenRpmMean</th>\n",
       "      <th>AmbientTemp</th>\n",
       "      <th>ShutdownDuration</th>\n",
       "    </tr>\n",
       "    <tr>\n",
       "      <th>TimeStamp_StartFormat</th>\n",
       "      <th></th>\n",
       "      <th></th>\n",
       "      <th></th>\n",
       "      <th></th>\n",
       "      <th></th>\n",
       "      <th></th>\n",
       "      <th></th>\n",
       "      <th></th>\n",
       "      <th></th>\n",
       "      <th></th>\n",
       "      <th></th>\n",
       "      <th></th>\n",
       "    </tr>\n",
       "  </thead>\n",
       "  <tbody>\n",
       "    <tr>\n",
       "      <th>2020-02-17 16:30:00</th>\n",
       "      <td>SMV1</td>\n",
       "      <td>2017.8566</td>\n",
       "      <td>57.0837</td>\n",
       "      <td>13.6164</td>\n",
       "      <td>1.2411</td>\n",
       "      <td>247.884662</td>\n",
       "      <td>239.930</td>\n",
       "      <td>259.686</td>\n",
       "      <td>6.0648</td>\n",
       "      <td>1800.5394</td>\n",
       "      <td>11.6191</td>\n",
       "      <td>0</td>\n",
       "    </tr>\n",
       "    <tr>\n",
       "      <th>2020-02-17 16:40:00</th>\n",
       "      <td>SMV1</td>\n",
       "      <td>1946.2472</td>\n",
       "      <td>91.7614</td>\n",
       "      <td>13.0139</td>\n",
       "      <td>1.0178</td>\n",
       "      <td>259.686000</td>\n",
       "      <td>259.686</td>\n",
       "      <td>259.686</td>\n",
       "      <td>3.5153</td>\n",
       "      <td>1798.7652</td>\n",
       "      <td>11.5493</td>\n",
       "      <td>0</td>\n",
       "    </tr>\n",
       "    <tr>\n",
       "      <th>2020-02-17 16:50:00</th>\n",
       "      <td>SMV1</td>\n",
       "      <td>1946.5069</td>\n",
       "      <td>98.3934</td>\n",
       "      <td>12.5818</td>\n",
       "      <td>0.9482</td>\n",
       "      <td>259.686000</td>\n",
       "      <td>259.686</td>\n",
       "      <td>259.686</td>\n",
       "      <td>2.1367</td>\n",
       "      <td>1799.5171</td>\n",
       "      <td>11.4929</td>\n",
       "      <td>0</td>\n",
       "    </tr>\n",
       "  </tbody>\n",
       "</table>\n",
       "</div>"
      ],
      "text/plain": [
       "                      TurbineName  ActivePowerMean  ActivePowerSD  \\\n",
       "TimeStamp_StartFormat                                               \n",
       "2020-02-17 16:30:00          SMV1        2017.8566        57.0837   \n",
       "2020-02-17 16:40:00          SMV1        1946.2472        91.7614   \n",
       "2020-02-17 16:50:00          SMV1        1946.5069        98.3934   \n",
       "\n",
       "                       WindSpeedMean  WindSpeedSD  YawAngleMean  YawAngleMin  \\\n",
       "TimeStamp_StartFormat                                                          \n",
       "2020-02-17 16:30:00          13.6164       1.2411    247.884662      239.930   \n",
       "2020-02-17 16:40:00          13.0139       1.0178    259.686000      259.686   \n",
       "2020-02-17 16:50:00          12.5818       0.9482    259.686000      259.686   \n",
       "\n",
       "                       YawAngleMax  PitchAngleMean  GenRpmMean  AmbientTemp  \\\n",
       "TimeStamp_StartFormat                                                         \n",
       "2020-02-17 16:30:00        259.686          6.0648   1800.5394      11.6191   \n",
       "2020-02-17 16:40:00        259.686          3.5153   1798.7652      11.5493   \n",
       "2020-02-17 16:50:00        259.686          2.1367   1799.5171      11.4929   \n",
       "\n",
       "                       ShutdownDuration  \n",
       "TimeStamp_StartFormat                    \n",
       "2020-02-17 16:30:00                   0  \n",
       "2020-02-17 16:40:00                   0  \n",
       "2020-02-17 16:50:00                   0  "
      ]
     },
     "execution_count": 4,
     "metadata": {},
     "output_type": "execute_result"
    }
   ],
   "source": [
    "scada_df = extractor.unpack_smarteole_scada()\n",
    "scada_df.head(3)"
   ]
  },
  {
   "cell_type": "markdown",
   "id": "d2306628-d56f-45fa-b60a-d8403da76947",
   "metadata": {},
   "source": [
    "#### 2.2 metadata"
   ]
  },
  {
   "cell_type": "code",
   "execution_count": 5,
   "id": "b9ea124f-4449-40ad-81b4-0c8d887cb3a0",
   "metadata": {
    "ExecuteTime": {
     "end_time": "2025-04-03T15:41:16.646260Z",
     "start_time": "2025-04-03T15:41:16.591825Z"
    }
   },
   "outputs": [
    {
     "data": {
      "text/html": [
       "<div>\n",
       "<style scoped>\n",
       "    .dataframe tbody tr th:only-of-type {\n",
       "        vertical-align: middle;\n",
       "    }\n",
       "\n",
       "    .dataframe tbody tr th {\n",
       "        vertical-align: top;\n",
       "    }\n",
       "\n",
       "    .dataframe thead th {\n",
       "        text-align: right;\n",
       "    }\n",
       "</style>\n",
       "<table border=\"1\" class=\"dataframe\">\n",
       "  <thead>\n",
       "    <tr style=\"text-align: right;\">\n",
       "      <th></th>\n",
       "      <th>Name</th>\n",
       "      <th>Latitude</th>\n",
       "      <th>Longitude</th>\n",
       "      <th>TimeZone</th>\n",
       "      <th>TimeSpanMinutes</th>\n",
       "      <th>TimeFormat</th>\n",
       "    </tr>\n",
       "  </thead>\n",
       "  <tbody>\n",
       "    <tr>\n",
       "      <th>0</th>\n",
       "      <td>SMV1</td>\n",
       "      <td>49.84975</td>\n",
       "      <td>2.80194</td>\n",
       "      <td>UTC</td>\n",
       "      <td>10.0</td>\n",
       "      <td>Start</td>\n",
       "    </tr>\n",
       "    <tr>\n",
       "      <th>1</th>\n",
       "      <td>SMV2</td>\n",
       "      <td>49.84661</td>\n",
       "      <td>2.80150</td>\n",
       "      <td>UTC</td>\n",
       "      <td>10.0</td>\n",
       "      <td>Start</td>\n",
       "    </tr>\n",
       "    <tr>\n",
       "      <th>2</th>\n",
       "      <td>SMV3</td>\n",
       "      <td>49.84347</td>\n",
       "      <td>2.80162</td>\n",
       "      <td>UTC</td>\n",
       "      <td>10.0</td>\n",
       "      <td>Start</td>\n",
       "    </tr>\n",
       "  </tbody>\n",
       "</table>\n",
       "</div>"
      ],
      "text/plain": [
       "   Name  Latitude  Longitude TimeZone  TimeSpanMinutes TimeFormat\n",
       "0  SMV1  49.84975    2.80194      UTC             10.0      Start\n",
       "1  SMV2  49.84661    2.80150      UTC             10.0      Start\n",
       "2  SMV3  49.84347    2.80162      UTC             10.0      Start"
      ]
     },
     "execution_count": 5,
     "metadata": {},
     "output_type": "execute_result"
    }
   ],
   "source": [
    "metadata_df = extractor.unpack_smarteole_metadata()\n",
    "metadata_df.head(3)"
   ]
  },
  {
   "cell_type": "markdown",
   "id": "a57e675b-8c84-4191-80f1-2e5419407220",
   "metadata": {},
   "source": [
    "#### 2.3 toggle data\n",
    "toggle data is data from the controller running the toggle test, in this case a wake steering controller"
   ]
  },
  {
   "cell_type": "code",
   "execution_count": 6,
   "id": "e5b39299-8122-4037-8503-8dc3f2adfacc",
   "metadata": {
    "ExecuteTime": {
     "end_time": "2025-04-03T15:41:16.904865Z",
     "start_time": "2025-04-03T15:41:16.853996Z"
    }
   },
   "outputs": [
    {
     "data": {
      "text/html": [
       "<div>\n",
       "<style scoped>\n",
       "    .dataframe tbody tr th:only-of-type {\n",
       "        vertical-align: middle;\n",
       "    }\n",
       "\n",
       "    .dataframe tbody tr th {\n",
       "        vertical-align: top;\n",
       "    }\n",
       "\n",
       "    .dataframe thead th {\n",
       "        text-align: right;\n",
       "    }\n",
       "</style>\n",
       "<table border=\"1\" class=\"dataframe\">\n",
       "  <thead>\n",
       "    <tr style=\"text-align: right;\">\n",
       "      <th></th>\n",
       "      <th>toggle_on</th>\n",
       "      <th>toggle_off</th>\n",
       "      <th>yaw_offset_command</th>\n",
       "    </tr>\n",
       "    <tr>\n",
       "      <th>TimeStamp_StartFormat</th>\n",
       "      <th></th>\n",
       "      <th></th>\n",
       "      <th></th>\n",
       "    </tr>\n",
       "  </thead>\n",
       "  <tbody>\n",
       "    <tr>\n",
       "      <th>2020-02-18 07:00:00+00:00</th>\n",
       "      <td>True</td>\n",
       "      <td>False</td>\n",
       "      <td>10.1839</td>\n",
       "    </tr>\n",
       "    <tr>\n",
       "      <th>2020-02-18 07:30:00+00:00</th>\n",
       "      <td>True</td>\n",
       "      <td>False</td>\n",
       "      <td>10.4246</td>\n",
       "    </tr>\n",
       "    <tr>\n",
       "      <th>2020-02-18 07:40:00+00:00</th>\n",
       "      <td>True</td>\n",
       "      <td>False</td>\n",
       "      <td>10.9057</td>\n",
       "    </tr>\n",
       "  </tbody>\n",
       "</table>\n",
       "</div>"
      ],
      "text/plain": [
       "                           toggle_on  toggle_off  yaw_offset_command\n",
       "TimeStamp_StartFormat                                               \n",
       "2020-02-18 07:00:00+00:00       True       False             10.1839\n",
       "2020-02-18 07:30:00+00:00       True       False             10.4246\n",
       "2020-02-18 07:40:00+00:00       True       False             10.9057"
      ]
     },
     "execution_count": 6,
     "metadata": {},
     "output_type": "execute_result"
    }
   ],
   "source": [
    "toggle_df = extractor.unpack_smarteole_toggle_data()\n",
    "toggle_df[toggle_df[\"yaw_offset_command\"] > 10].head(3)  # noqa: PLR2004"
   ]
  },
  {
   "cell_type": "markdown",
   "id": "9169c95b-9f31-43e1-a49c-b25646ca2158",
   "metadata": {},
   "source": [
    "## 3. Get reference data\n",
    "We'll use nearby ERA5 re-analysis data, previously downloaded"
   ]
  },
  {
   "cell_type": "code",
   "execution_count": 7,
   "id": "104db0a7-8b54-4d31-9c90-842638ca23a1",
   "metadata": {
    "ExecuteTime": {
     "end_time": "2025-04-03T15:41:21.053012Z",
     "start_time": "2025-04-03T15:41:17.779857Z"
    }
   },
   "outputs": [
    {
     "data": {
      "text/html": [
       "<div>\n",
       "<style scoped>\n",
       "    .dataframe tbody tr th:only-of-type {\n",
       "        vertical-align: middle;\n",
       "    }\n",
       "\n",
       "    .dataframe tbody tr th {\n",
       "        vertical-align: top;\n",
       "    }\n",
       "\n",
       "    .dataframe thead th {\n",
       "        text-align: right;\n",
       "    }\n",
       "</style>\n",
       "<table border=\"1\" class=\"dataframe\">\n",
       "  <thead>\n",
       "    <tr style=\"text-align: right;\">\n",
       "      <th></th>\n",
       "      <th>10_m_hws_mean_mps</th>\n",
       "      <th>10_m_hwd_mean_deg-n_true</th>\n",
       "      <th>100_m_hws_mean_mps</th>\n",
       "      <th>100_m_hwd_mean_deg-n_true</th>\n",
       "      <th>2_m_temp_mean_deg-c</th>\n",
       "      <th>2_m_dew_point_temp_deg-c</th>\n",
       "      <th>2_m_rh_mean_%</th>\n",
       "      <th>0_m_pres_mean_pa</th>\n",
       "      <th>sea_level_pres_mean_pa</th>\n",
       "      <th>boundary_layer_height_m</th>\n",
       "      <th>total_cloud_cover_%</th>\n",
       "      <th>instantaneous_surface_sensible_heat_flux_wpm2</th>\n",
       "      <th>friction_velocity_mps</th>\n",
       "      <th>cloud_base_height_m</th>\n",
       "      <th>surface_solar_radiation_downwards_wpm2</th>\n",
       "      <th>era5t</th>\n",
       "    </tr>\n",
       "    <tr>\n",
       "      <th>datetime_start_utc</th>\n",
       "      <th></th>\n",
       "      <th></th>\n",
       "      <th></th>\n",
       "      <th></th>\n",
       "      <th></th>\n",
       "      <th></th>\n",
       "      <th></th>\n",
       "      <th></th>\n",
       "      <th></th>\n",
       "      <th></th>\n",
       "      <th></th>\n",
       "      <th></th>\n",
       "      <th></th>\n",
       "      <th></th>\n",
       "      <th></th>\n",
       "      <th></th>\n",
       "    </tr>\n",
       "  </thead>\n",
       "  <tbody>\n",
       "    <tr>\n",
       "      <th>2020-02-01 00:00:00+00:00</th>\n",
       "      <td>6.29</td>\n",
       "      <td>203.1</td>\n",
       "      <td>10.33</td>\n",
       "      <td>206.6</td>\n",
       "      <td>11.6</td>\n",
       "      <td>9.8</td>\n",
       "      <td>88.9</td>\n",
       "      <td>99621.8</td>\n",
       "      <td>100815.6</td>\n",
       "      <td>834.2</td>\n",
       "      <td>100.0</td>\n",
       "      <td>30.138</td>\n",
       "      <td>0.441049</td>\n",
       "      <td>204.6</td>\n",
       "      <td>0.0</td>\n",
       "      <td>0</td>\n",
       "    </tr>\n",
       "    <tr>\n",
       "      <th>2020-02-01 01:00:00+00:00</th>\n",
       "      <td>6.57</td>\n",
       "      <td>204.3</td>\n",
       "      <td>10.80</td>\n",
       "      <td>207.4</td>\n",
       "      <td>11.6</td>\n",
       "      <td>10.2</td>\n",
       "      <td>91.2</td>\n",
       "      <td>99547.5</td>\n",
       "      <td>100739.8</td>\n",
       "      <td>813.0</td>\n",
       "      <td>100.0</td>\n",
       "      <td>33.538</td>\n",
       "      <td>0.435240</td>\n",
       "      <td>30.8</td>\n",
       "      <td>0.0</td>\n",
       "      <td>0</td>\n",
       "    </tr>\n",
       "    <tr>\n",
       "      <th>2020-02-01 02:00:00+00:00</th>\n",
       "      <td>6.54</td>\n",
       "      <td>209.5</td>\n",
       "      <td>10.69</td>\n",
       "      <td>212.1</td>\n",
       "      <td>11.6</td>\n",
       "      <td>10.7</td>\n",
       "      <td>93.9</td>\n",
       "      <td>99486.1</td>\n",
       "      <td>100678.0</td>\n",
       "      <td>808.8</td>\n",
       "      <td>100.0</td>\n",
       "      <td>32.996</td>\n",
       "      <td>0.424339</td>\n",
       "      <td>30.8</td>\n",
       "      <td>0.0</td>\n",
       "      <td>0</td>\n",
       "    </tr>\n",
       "  </tbody>\n",
       "</table>\n",
       "</div>"
      ],
      "text/plain": [
       "                           10_m_hws_mean_mps  10_m_hwd_mean_deg-n_true  \\\n",
       "datetime_start_utc                                                       \n",
       "2020-02-01 00:00:00+00:00               6.29                     203.1   \n",
       "2020-02-01 01:00:00+00:00               6.57                     204.3   \n",
       "2020-02-01 02:00:00+00:00               6.54                     209.5   \n",
       "\n",
       "                           100_m_hws_mean_mps  100_m_hwd_mean_deg-n_true  \\\n",
       "datetime_start_utc                                                         \n",
       "2020-02-01 00:00:00+00:00               10.33                      206.6   \n",
       "2020-02-01 01:00:00+00:00               10.80                      207.4   \n",
       "2020-02-01 02:00:00+00:00               10.69                      212.1   \n",
       "\n",
       "                           2_m_temp_mean_deg-c  2_m_dew_point_temp_deg-c  \\\n",
       "datetime_start_utc                                                         \n",
       "2020-02-01 00:00:00+00:00                 11.6                       9.8   \n",
       "2020-02-01 01:00:00+00:00                 11.6                      10.2   \n",
       "2020-02-01 02:00:00+00:00                 11.6                      10.7   \n",
       "\n",
       "                           2_m_rh_mean_%  0_m_pres_mean_pa  \\\n",
       "datetime_start_utc                                           \n",
       "2020-02-01 00:00:00+00:00           88.9           99621.8   \n",
       "2020-02-01 01:00:00+00:00           91.2           99547.5   \n",
       "2020-02-01 02:00:00+00:00           93.9           99486.1   \n",
       "\n",
       "                           sea_level_pres_mean_pa  boundary_layer_height_m  \\\n",
       "datetime_start_utc                                                           \n",
       "2020-02-01 00:00:00+00:00                100815.6                    834.2   \n",
       "2020-02-01 01:00:00+00:00                100739.8                    813.0   \n",
       "2020-02-01 02:00:00+00:00                100678.0                    808.8   \n",
       "\n",
       "                           total_cloud_cover_%  \\\n",
       "datetime_start_utc                               \n",
       "2020-02-01 00:00:00+00:00                100.0   \n",
       "2020-02-01 01:00:00+00:00                100.0   \n",
       "2020-02-01 02:00:00+00:00                100.0   \n",
       "\n",
       "                           instantaneous_surface_sensible_heat_flux_wpm2  \\\n",
       "datetime_start_utc                                                         \n",
       "2020-02-01 00:00:00+00:00                                         30.138   \n",
       "2020-02-01 01:00:00+00:00                                         33.538   \n",
       "2020-02-01 02:00:00+00:00                                         32.996   \n",
       "\n",
       "                           friction_velocity_mps  cloud_base_height_m  \\\n",
       "datetime_start_utc                                                      \n",
       "2020-02-01 00:00:00+00:00               0.441049                204.6   \n",
       "2020-02-01 01:00:00+00:00               0.435240                 30.8   \n",
       "2020-02-01 02:00:00+00:00               0.424339                 30.8   \n",
       "\n",
       "                           surface_solar_radiation_downwards_wpm2  era5t  \n",
       "datetime_start_utc                                                        \n",
       "2020-02-01 00:00:00+00:00                                     0.0      0  \n",
       "2020-02-01 01:00:00+00:00                                     0.0      0  \n",
       "2020-02-01 02:00:00+00:00                                     0.0      0  "
      ]
     },
     "execution_count": 7,
     "metadata": {},
     "output_type": "execute_result"
    }
   ],
   "source": [
    "import pandas as pd\n",
    "\n",
    "from wind_up.reanalysis_data import ReanalysisDataset\n",
    "\n",
    "reanalysis_dataset = ReanalysisDataset(\n",
    "    id=\"ERA5T_50.00N_2.75E_100m_1hr\",\n",
    "    data=pd.read_parquet(\n",
    "        PROJECTROOT_DIR / \"tests/test_data/smarteole/ERA5T_50.00N_2.75E_100m_1hr_20200201_20200531.parquet\"\n",
    "    ),\n",
    ")\n",
    "reanalysis_dataset.data.head(3)"
   ]
  },
  {
   "cell_type": "markdown",
   "id": "183ad830-0153-4b54-9d76-821e423bf355",
   "metadata": {},
   "source": [
    "## 4. Define the assessment configuration"
   ]
  },
  {
   "cell_type": "code",
   "execution_count": 8,
   "id": "9d14621a-8a4d-487d-8c61-fe70c7da2d9d",
   "metadata": {
    "ExecuteTime": {
     "end_time": "2025-04-03T15:41:21.280127Z",
     "start_time": "2025-04-03T15:41:21.255424Z"
    }
   },
   "outputs": [],
   "source": [
    "from wind_up.models import Asset, PlotConfig, Toggle, Turbine, WindUpConfig"
   ]
  },
  {
   "cell_type": "markdown",
   "id": "e661d6ec-47f5-4720-a084-2d766c3ec5a4",
   "metadata": {},
   "source": [
    "#### 4.1 defining the turbine information"
   ]
  },
  {
   "cell_type": "code",
   "execution_count": 9,
   "id": "9b923c90-bf0e-46be-93b6-796158923145",
   "metadata": {
    "ExecuteTime": {
     "end_time": "2025-04-03T15:41:22.285556Z",
     "start_time": "2025-04-03T15:41:22.268370Z"
    }
   },
   "outputs": [],
   "source": [
    "wtg_map = {\n",
    "    f\"SMV{i}\": Turbine.model_validate(\n",
    "        {\n",
    "            \"name\": f\"SMV{i}\",\n",
    "            \"turbine_type\": {\n",
    "                \"turbine_type\": \"Senvion-MM82-2050\",\n",
    "                \"rotor_diameter_m\": 82.0,\n",
    "                \"rated_power_kw\": 2050.0,\n",
    "                \"normal_operation_pitch_range\": (-10.0, 35.0),\n",
    "                \"normal_operation_genrpm_range\": (250.0, 2000.0),\n",
    "            },\n",
    "        }\n",
    "    )\n",
    "    for i in range(1, 7 + 1)\n",
    "}"
   ]
  },
  {
   "cell_type": "markdown",
   "id": "f372de70-0526-43f7-a3d5-6c37c89ddf98",
   "metadata": {},
   "source": [
    "#### 4.2 defining northing corrections\n",
    "Northing corrections are defined by running the analysis with `WindUpConfig.optimize_northing_corrections` set to `True`. The northing correction calculation is time consuming; it is generally acceptable to run it one time on a particular dataset and then preserve the result as config thereafter."
   ]
  },
  {
   "cell_type": "code",
   "execution_count": 10,
   "id": "072da036-c9a1-460b-b8c1-b328ce7fa88c",
   "metadata": {
    "ExecuteTime": {
     "end_time": "2025-04-03T15:41:22.868796Z",
     "start_time": "2025-04-03T15:41:22.848535Z"
    }
   },
   "outputs": [],
   "source": [
    "northing_corrections_utc = [\n",
    "    (\"SMV1\", pd.Timestamp(\"2020-02-17 16:30:00+0000\"), 5.750994540354649),\n",
    "    (\"SMV2\", pd.Timestamp(\"2020-02-17 16:30:00+0000\"), 5.690999999999994),\n",
    "    (\"SMV3\", pd.Timestamp(\"2020-02-17 16:30:00+0000\"), 5.558000000000042),\n",
    "    (\"SMV4\", pd.Timestamp(\"2020-02-17 16:30:00+0000\"), 5.936999999999996),\n",
    "    (\"SMV5\", pd.Timestamp(\"2020-02-17 16:30:00+0000\"), 6.797253350869262),\n",
    "    (\"SMV6\", pd.Timestamp(\"2020-02-17 16:30:00+0000\"), 5.030130916842758),\n",
    "    (\"SMV7\", pd.Timestamp(\"2020-02-17 16:30:00+0000\"), 4.605999999999972),\n",
    "]"
   ]
  },
  {
   "cell_type": "markdown",
   "id": "95b62a8b-ce92-4557-bb37-1a689027e38b",
   "metadata": {},
   "source": [
    "#### 4.3 defining the WindUp and Plot configurations"
   ]
  },
  {
   "cell_type": "code",
   "execution_count": 11,
   "id": "ff029744-3088-465f-aa6c-c83f7df808bf",
   "metadata": {
    "ExecuteTime": {
     "end_time": "2025-04-03T15:41:23.556091Z",
     "start_time": "2025-04-03T15:41:23.511494Z"
    }
   },
   "outputs": [
    {
     "name": "stderr",
     "output_type": "stream",
     "text": [
      "loaded WindUpConfig assessment_name: smarteole_example\n",
      "toggle analysis period (UTC): 2020-02-17 16:30 to 2020-05-25 00:00\n",
      "long term period (UTC): 2020-02-17 16:30 to 2020-05-25 00:00\n",
      "detrend period (UTC): 2020-02-17 16:30 to 2020-05-25 00:00\n"
     ]
    }
   ],
   "source": [
    "analysis_output_dir = OUTPUT_DIR / \"smarteole_example\"\n",
    "\n",
    "# allowing bigger margin if analysing at lower frequency\n",
    "wd_filter_margin = 3 + 7 * analysis_timebase_s / 600\n",
    "\n",
    "cfg = WindUpConfig(\n",
    "    assessment_name=\"smarteole_example\",\n",
    "    timebase_s=analysis_timebase_s,\n",
    "    require_ref_wake_free=True,\n",
    "    detrend_min_hours=12,  # shorter than the default of 24 because this dataset is small\n",
    "    ref_wd_filter=[207 - wd_filter_margin, 236 + wd_filter_margin],  # steer is from 207-236\n",
    "    filter_all_test_wtgs_together=True,\n",
    "    use_lt_distribution=False,\n",
    "    out_dir=analysis_output_dir,\n",
    "    test_wtgs=[wtg_map[\"SMV6\"], wtg_map[\"SMV5\"]],\n",
    "    ref_wtgs=[wtg_map[\"SMV7\"]],\n",
    "    ref_super_wtgs=[],\n",
    "    non_wtg_ref_names=[],\n",
    "    analysis_first_dt_utc_start=pd.Timestamp(\"2020-02-17 16:30:00+0000\"),\n",
    "    upgrade_first_dt_utc_start=pd.Timestamp(\"2020-02-17 16:30:00+0000\"),\n",
    "    analysis_last_dt_utc_start=pd.Timestamp(\"2020-05-25 00:00:00+0000\") - pd.Timedelta(seconds=analysis_timebase_s),\n",
    "    lt_first_dt_utc_start=pd.Timestamp(\"2020-02-17 16:30:00+0000\"),\n",
    "    lt_last_dt_utc_start=pd.Timestamp(\"2020-05-25 00:00:00+0000\") - pd.Timedelta(seconds=analysis_timebase_s),\n",
    "    detrend_first_dt_utc_start=pd.Timestamp(\"2020-02-17 16:30:00+0000\"),\n",
    "    detrend_last_dt_utc_start=pd.Timestamp(\"2020-05-25 00:00:00+0000\") - pd.Timedelta(seconds=analysis_timebase_s),\n",
    "    years_for_lt_distribution=0,\n",
    "    years_for_detrend=0,\n",
    "    ws_bin_width=1.0,\n",
    "    asset=Asset(name=\"Sole du Moulin Vieux\", wtgs=list(wtg_map.values()), masts_and_lidars=[]),\n",
    "    northing_corrections_utc=northing_corrections_utc,\n",
    "    toggle=Toggle(\n",
    "        name=\"wake steering\",\n",
    "        toggle_file_per_turbine=False,\n",
    "        toggle_filename=\"SMV_offset_active_toggle_df.parquet\",\n",
    "        detrend_data_selection=\"use_toggle_off_data\",\n",
    "        pairing_filter_method=\"any_within_timedelta\",\n",
    "        pairing_filter_timedelta_seconds=3600,\n",
    "        toggle_change_settling_filter_seconds=120,\n",
    "    ),\n",
    ")\n",
    "\n",
    "plot_cfg = PlotConfig(show_plots=False, save_plots=False, skip_per_turbine_plots=True, plots_dir=cfg.out_dir / \"plots\")"
   ]
  },
  {
   "cell_type": "markdown",
   "id": "ae3deda6-680d-41a2-8884-662e507319c6",
   "metadata": {},
   "source": [
    "#### 4.3 combining all configurations into the assessment inputs object\n",
    "This object bundles everything needed to run the wind-up analysis\n",
    "In particular the wind farm SCADA data is filtered and northed.\n",
    "\n",
    "A wind speed estimate for each turbine is also derived mainly from power so that the anemometer data is used as little as possible.  "
   ]
  },
  {
   "cell_type": "code",
   "execution_count": 12,
   "id": "a2947783-803c-4de1-9aee-66a120837f20",
   "metadata": {
    "ExecuteTime": {
     "end_time": "2025-04-03T15:42:31.118077Z",
     "start_time": "2025-04-03T15:41:23.822241Z"
    }
   },
   "outputs": [
    {
     "name": "stderr",
     "output_type": "stream",
     "text": [
      "running wind_up analysis for smarteole_example\n",
      "running load_smart_scada_and_md_from_file for 2020-02-17 16:30:00+00:00 to 2020-05-24 23:50:00+00:00\n",
      "loaded 7 turbines, 0.3 years per turbine\n",
      "finished load_smart_scada_and_md for 2020-02-17 16:30:00+00:00 to 2020-05-24 23:50:00+00:00\n",
      "average capacity factor: 27.9%\n",
      "top 3 capacity factor [%]:\n",
      "+------+------+\n",
      "| SMV1 | 30.3 |\n",
      "| SMV2 | 29.8 |\n",
      "| SMV4 | 28.3 |\n",
      "+------+------+\n",
      "bottom 3 capacity factor [%]:\n",
      "+------+------+\n",
      "| SMV3 | 25.6 |\n",
      "| SMV6 | 26.3 |\n",
      "| SMV5 | 26.9 |\n",
      "+------+------+\n",
      "7855 rows [8.0%] of power data is missing before filtering\n",
      "filter_stuck_data set 7443 rows [7.6%] to NA\n",
      "filter_bad_pw_ws set 0 rows [0.0%] to NA\n",
      "rows with PitchAngleMean lt -180: 0\n",
      "rows with PitchAngleMean ge 180: 1\n",
      "wrapped PitchAngleMean to -180-180\n",
      "filter_wrong_yaw set 22829 rows [23.3%] to NA yaw Min & Max because of bad YawAngleMin/Max values\n",
      "filter_wrong_yaw set 232 rows [0.2%] to NA yaw because of YawAngleMean appears to be wrong\n",
      "filter_exclusions set 0 rows [0.0%] to NA\n",
      "filter_yaw_exclusions set 0 rows [0.0%] to NA yaw\n",
      "filter_downtime set 0 rows [0.0%] to NA\n",
      "filter_missing_rpm_and_pt set 0 rows [0.0%] to NA because of rpm or pitch are NA\n",
      "filter_rpm_and_pt set 13598 rows [13.9%] to NA because of rpm or pitch are out of range\n",
      "filter_rpm_and_pt set 2663 rows [2.7%] to NA because of rpm or pitch curve filtering\n",
      "24116 rows [24.6%] of power data is missing after filtering\n",
      "ERA5T_50.00N_2.75E_100m_1hr best correlation is 0.866200 with a shift of -4\n",
      "ERA5T_50.00N_2.75E_100m_1hr has best correlation: 0.866 with a shift of -4\n",
      "top 3 turbines needing northing correction vs reanalysis_wd before northing:\n",
      "+------+------+\n",
      "| SMV6 | 11.6 |\n",
      "| SMV5 | 11.2 |\n",
      "| SMV3 | 10.3 |\n",
      "+------+------+\n",
      "top 3 REFERENCE turbines needing northing correction vs reanalysis_wd before northing:\n",
      "+------+-----+\n",
      "| SMV7 | 8.1 |\n",
      "+------+-----+\n",
      "applied 7 northing corrections\n",
      "top 3 turbines needing northing correction vs reanalysis_wd after northing:\n",
      "+------+-----+\n",
      "| SMV7 | 7.1 |\n",
      "| SMV6 | 6.5 |\n",
      "| SMV3 | 4.7 |\n",
      "+------+-----+\n",
      "top 3 REFERENCE turbines needing northing correction vs reanalysis_wd after northing:\n",
      "+------+-----+\n",
      "| SMV7 | 7.1 |\n",
      "+------+-----+\n",
      "estimated rated wind speed = 14.2 m/s\n",
      "estimated cut-in wind speed = 3.3 m/s\n",
      "##############################################################################\n",
      "# estimate wind speed from power\n",
      "##############################################################################\n",
      "SMV1 cp correction factor = 0.97\n",
      "SMV2 cp correction factor = 0.99\n",
      "SMV3 cp correction factor = 1.00\n",
      "SMV4 cp correction factor = 0.98\n",
      "SMV5 cp correction factor = 1.02\n",
      "SMV6 cp correction factor = 1.03\n",
      "SMV7 cp correction factor = 1.02\n",
      "Senvion-MM82-2050 76.1% of rows are waking\n",
      "Senvion-MM82-2050 14.8% of rows are not waking\n",
      "Senvion-MM82-2050 9.1% of rows have unknown or partial waking\n"
     ]
    }
   ],
   "source": [
    "from wind_up.interface import AssessmentInputs\n",
    "\n",
    "assessment_inputs = AssessmentInputs.from_cfg(\n",
    "    cfg=cfg,\n",
    "    plot_cfg=plot_cfg,\n",
    "    toggle_df=toggle_df,\n",
    "    scada_df=scada_df,\n",
    "    metadata_df=metadata_df,\n",
    "    reanalysis_datasets=[reanalysis_dataset],\n",
    "    cache_dir=None,\n",
    ")"
   ]
  },
  {
   "cell_type": "markdown",
   "id": "75510b44-0bb1-4f87-80b4-46d27b8a3460",
   "metadata": {},
   "source": [
    "## 5. Running the assessment"
   ]
  },
  {
   "cell_type": "code",
   "execution_count": 13,
   "id": "4cbe49b2-d124-4893-8425-70232c76ff3c",
   "metadata": {
    "ExecuteTime": {
     "end_time": "2025-04-03T15:51:51.750413Z",
     "start_time": "2025-04-03T15:42:31.433210Z"
    }
   },
   "outputs": [
    {
     "name": "stderr",
     "output_type": "stream",
     "text": [
      "test turbines: ['SMV6', 'SMV5']\n",
      "ref list: ['SMV7']\n",
      "turbines to test: ['SMV6', 'SMV5']\n",
      "filter_all_test_wtgs_together SMV5 set 400 rows [2.9%] to NA\n",
      "changed 764 [16.2%] rows from toggle_on True to False because toggle_change_settling_filter_seconds = 120\n",
      "changed 775 [9.9%] rows from toggle_off True to False because toggle_change_settling_filter_seconds = 120\n",
      "analysing SMV6 SMV7, loop_counter=0\n",
      "changed 764 [16.2%] rows from toggle_on True to False because toggle_change_settling_filter_seconds = 120\n",
      "changed 775 [9.9%] rows from toggle_off True to False because toggle_change_settling_filter_seconds = 120\n",
      "removed 11390 [81.3%] rows from ref_df using ref_wd_filter\n",
      "SMV7 wake free directions with data min=197.0 max=246.0\n",
      "removed 0 [0.0%] rows from ref_df using require_ref_wake_free\n",
      "removed 6968 [49.7%] rows from detrend_df where test_toggle_off was not True after the first toggle on time\n",
      "top 3 SMV6 SMV7 waking scenarios [%]:\n",
      "+--------------+------+\n",
      "| none offline | 98.2 |\n",
      "| SMV7 offline |  1.6 |\n",
      "| unknown      |  0.2 |\n",
      "+--------------+------+\n",
      "removed 0 bad detrend results\n",
      "top 3 SMV6 SMV7 waking scenarios [%]:\n",
      "+--------------+------+\n",
      "| none offline | 98.2 |\n",
      "| SMV7 offline |  1.6 |\n",
      "| unknown      |  0.2 |\n",
      "+--------------+------+\n",
      "top 1 SMV6 SMV7 waking scenarios [%]:\n",
      "+--------------+-------+\n",
      "| none offline | 100.0 |\n",
      "+--------------+-------+\n",
      "detrend applied to 49 scenario - directions\n",
      "detrend applied to 49 scenario - directions\n",
      "detrend improved pre_df ws r2 by 0.00 (0.96 to 0.97)\n",
      "detrend improved post_df ws r2 by 0.00 (0.96 to 0.96)\n",
      "removed 0 bad detrend results\n",
      "removed 0 bad detrend results\n",
      "removed 71 [7.8%] rows from pre_df using any_within_timedelta pairing filter\n",
      "removed 12 [1.4%] rows from post_df using any_within_timedelta pairing filter\n",
      "\n",
      "results for test=SMV6 ref=SMV7:\n",
      "\n",
      "hours pre = 132.5\n",
      "hours post = 136.0\n",
      "\n",
      "uplift estimate before adjustments = -1.2 %\n",
      "\n",
      "power only uplift estimate = -1.2 %\n",
      "reversed (power only) uplift estimate = -1.0 %\n",
      "\n",
      "Running block bootstrapping uncertainty analysis n_samples = 400\n"
     ]
    },
    {
     "data": {
      "application/vnd.jupyter.widget-view+json": {
       "model_id": "8137706b991f445c858523711e4259dc",
       "version_major": 2,
       "version_minor": 0
      },
      "text/plain": [
       "  0%|          | 0/400 [00:00<?, ?it/s]"
      ]
     },
     "metadata": {},
     "output_type": "display_data"
    },
    {
     "name": "stderr",
     "output_type": "stream",
     "text": [
      "block bootstrapping uncertainty analysis results (conf=90%):\n",
      "  median = -1.1 %\n",
      "  lower = -2.0 %\n",
      "  upper = -0.4 %\n",
      "  unc_one_sigma = 0.5 %\n",
      "\n",
      "cat A 1 sigma unc = 0.6 %\n",
      "abs reversal error / 2 = 0.1 %\n",
      "bootstrap 1 sigma unc = 0.5 %\n",
      "missing bins scale factor = 1.000\n",
      "final 1 sigma unc = 0.6 %\n",
      "\n",
      "final uplift estimate = -1.0 %\n",
      "final P95 uplift estimate = -2.0 %\n",
      "final P5 uplift estimate = -0.1 %\n",
      "{'ref': 'SMV7', 'ref_ws_col': 'ref_ws_est_blend', 'distance_m': 314.4465998943834, 'bearing_deg': 173.69483366777283, 'ref_max_northing_error_v_reanalysis': np.float64(2.659075455180812), 'ref_max_northing_error_v_wf': np.float64(2.842170943040401e-14), 'ref_max_ws_drift': np.float64(0.08697706942338845), 'ref_max_ws_drift_pp_period': np.float64(0.08697706942338845), 'ref_powercurve_shift': np.float64(0.003117456887993697), 'ref_rpm_shift': np.float64(0.0015313319638985412), 'ref_pitch_shift': np.float64(-0.05548555519736481), 'detrend_pre_r2_improvement': np.float64(0.004942384513915488), 'detrend_post_r2_improvement': np.float64(0.0011487228730561183), 'mean_power_pre': np.float64(1149.2323289820358), 'mean_power_post': np.float64(1148.4157066585956), 'mean_test_yaw_offset_pre': np.float64(-0.02251115688887816), 'mean_test_yaw_offset_post': np.float64(3.8213264238880433), 'test_ref_warning_counts': 0, 'time_calculated': Timestamp('2025-04-03 15:42:45.327744+0000', tz='UTC'), 'uplift_frc': np.float64(-0.010361770845398542), 'unc_one_sigma_frc': np.float64(0.005785115153094871), 't_value_one_sigma': np.float64(1.000630119597717), 'missing_bins_unc_scale_factor': 1, 'pp_valid_hours_pre': np.float64(132.5), 'pp_valid_hours_post': np.float64(136.0), 'pp_valid_hours': np.float64(268.5), 'pp_data_coverage': np.float64(0.11496467565831728), 'pp_invalid_bin_count': np.int64(16), 'uplift_noadj_frc': np.float64(-0.011505660672015925), 'unc_one_sigma_noadj_frc': np.float64(0.005785115153094871), 'poweronly_uplift_frc': np.float64(-0.012003308408347353), 'reversed_uplift_frc': np.float64(-0.009715528755112588), 'reversal_error': np.float64(0.002287779653234765), 'unc_one_sigma_lowerbound_frc': np.float64(0.0011438898266173825), 'unc_one_sigma_bootstrap_frc': np.float64(0.004940653271467334), 'uplift_p5_frc': np.float64(-0.0008461032034985209), 'uplift_p95_frc': np.float64(-0.019877438487298563), 'wind_up_version': '0.1.10', 'test_wtg': 'SMV6', 'test_pw_col': 'test_pw_clipped', 'lt_wtg_hours_raw': 0, 'lt_wtg_hours_filt': 0, 'test_max_ws_drift': np.float64(0.03653354205095605), 'test_max_ws_drift_pp_period': np.float64(0.03653354205095605), 'test_powercurve_shift': np.float64(0.0010615707256107498), 'test_rpm_shift': np.float64(0.0011316163321652972), 'test_pitch_shift': np.float64(-0.037158903030505286), 'preprocess_warning_counts': 0, 'test_warning_counts': 0}\n",
      "warning summary: preprocess_warning_counts=0, test_warning_counts=0, test_ref_warning_counts=0\n",
      "finished analysing SMV6 SMV7\n",
      "\n",
      "filter_all_test_wtgs_together SMV6 set 739 rows [5.3%] to NA\n",
      "changed 764 [16.2%] rows from toggle_on True to False because toggle_change_settling_filter_seconds = 120\n",
      "changed 775 [9.9%] rows from toggle_off True to False because toggle_change_settling_filter_seconds = 120\n",
      "analysing SMV5 SMV7, loop_counter=1\n",
      "changed 764 [16.2%] rows from toggle_on True to False because toggle_change_settling_filter_seconds = 120\n",
      "changed 775 [9.9%] rows from toggle_off True to False because toggle_change_settling_filter_seconds = 120\n",
      "removed 11390 [81.3%] rows from ref_df using ref_wd_filter\n",
      "SMV7 wake free directions with data min=197.0 max=246.0\n",
      "removed 0 [0.0%] rows from ref_df using require_ref_wake_free\n",
      "removed 6968 [49.7%] rows from detrend_df where test_toggle_off was not True after the first toggle on time\n",
      "top 5 SMV5 SMV7 waking scenarios [%]:\n",
      "+-------------------+------+\n",
      "| none offline      | 86.5 |\n",
      "| SMV6 SMV7 offline |  5.3 |\n",
      "| SMV6 offline      |  4.1 |\n",
      "| unknown           |  4.1 |\n",
      "| SMV7 offline      |  0.1 |\n",
      "+-------------------+------+\n",
      "removed 0 bad detrend results\n",
      "top 5 SMV5 SMV7 waking scenarios [%]:\n",
      "+-------------------+------+\n",
      "| none offline      | 86.5 |\n",
      "| SMV6 SMV7 offline |  5.3 |\n",
      "| SMV6 offline      |  4.1 |\n",
      "| unknown           |  4.1 |\n",
      "| SMV7 offline      |  0.1 |\n",
      "+-------------------+------+\n",
      "top 2 SMV5 SMV7 waking scenarios [%]:\n",
      "+--------------+------+\n",
      "| none offline | 97.6 |\n",
      "| unknown      |  2.4 |\n",
      "+--------------+------+\n",
      "detrend applied to 65 scenario - directions\n",
      "detrend applied to 58 scenario - directions\n",
      "detrend improved pre_df ws r2 by 0.10 (0.84 to 0.93)\n",
      "detrend improved post_df ws r2 by 0.12 (0.80 to 0.92)\n",
      "removed 0 bad detrend results\n",
      "removed 0 bad detrend results\n",
      "removed 71 [7.8%] rows from pre_df using any_within_timedelta pairing filter\n",
      "removed 12 [1.4%] rows from post_df using any_within_timedelta pairing filter\n",
      "\n",
      "results for test=SMV5 ref=SMV7:\n",
      "\n",
      "hours pre = 133.0\n",
      "hours post = 137.2\n",
      "\n",
      "uplift estimate before adjustments = 3.1 %\n",
      "\n",
      "power only uplift estimate = 3.0 %\n",
      "reversed (power only) uplift estimate = 3.1 %\n",
      "\n",
      "Running block bootstrapping uncertainty analysis n_samples = 400\n"
     ]
    },
    {
     "data": {
      "application/vnd.jupyter.widget-view+json": {
       "model_id": "facedd79dede46138d90fc6eef6b3cc8",
       "version_major": 2,
       "version_minor": 0
      },
      "text/plain": [
       "  0%|          | 0/400 [00:00<?, ?it/s]"
      ]
     },
     "metadata": {},
     "output_type": "display_data"
    },
    {
     "name": "stderr",
     "output_type": "stream",
     "text": [
      "block bootstrapping uncertainty analysis results (conf=90%):\n",
      "  median = 3.1 %\n",
      "  lower = 1.3 %\n",
      "  upper = 5.1 %\n",
      "  unc_one_sigma = 1.2 %\n",
      "\n",
      "cat A 1 sigma unc = 1.0 %\n",
      "abs reversal error / 2 = 0.037 %\n",
      "bootstrap 1 sigma unc = 1.2 %\n",
      "missing bins scale factor = 1.000\n",
      "final 1 sigma unc = 1.2 %\n",
      "\n",
      "final uplift estimate = 3.1 %\n",
      "final P95 uplift estimate = 1.2 %\n",
      "final P5 uplift estimate = 5.0 %\n",
      "{'ref': 'SMV7', 'ref_ws_col': 'ref_ws_est_blend', 'distance_m': 591.1178519927024, 'bearing_deg': 190.23567745705736, 'ref_max_northing_error_v_reanalysis': np.float64(2.659075455180812), 'ref_max_northing_error_v_wf': np.float64(2.842170943040401e-14), 'ref_max_ws_drift': np.float64(0.08697706942338845), 'ref_max_ws_drift_pp_period': np.float64(0.08697706942338845), 'ref_powercurve_shift': np.float64(0.003117456887993697), 'ref_rpm_shift': np.float64(0.0015313319638985412), 'ref_pitch_shift': np.float64(-0.05548555519736481), 'detrend_pre_r2_improvement': np.float64(0.09621188863947527), 'detrend_post_r2_improvement': np.float64(0.11890364717818458), 'mean_power_pre': np.float64(955.493497245509), 'mean_power_post': np.float64(993.6911992736077), 'mean_test_yaw_offset_pre': np.float64(-2.2725466102034675), 'mean_test_yaw_offset_post': np.float64(-2.876981850327041), 'test_ref_warning_counts': 0, 'time_calculated': Timestamp('2025-04-03 15:47:59.739887+0000', tz='UTC'), 'uplift_frc': np.float64(0.030879346731271434), 'unc_one_sigma_frc': np.float64(0.011678470065254293), 't_value_one_sigma': np.float64(1.0006277462668354), 'missing_bins_unc_scale_factor': 1, 'pp_valid_hours_pre': np.float64(133.0), 'pp_valid_hours_post': np.float64(137.16666666666669), 'pp_valid_hours': np.float64(270.1666666666667), 'pp_data_coverage': np.float64(0.11567829872261472), 'pp_invalid_bin_count': np.int64(16), 'uplift_noadj_frc': np.float64(0.030509447623790688), 'unc_one_sigma_noadj_frc': np.float64(0.01004760180633488), 'poweronly_uplift_frc': np.float64(0.029990866525649112), 'reversed_uplift_frc': np.float64(0.03073066474061061), 'reversal_error': np.float64(0.0007397982149614964), 'unc_one_sigma_lowerbound_frc': np.float64(0.0003698991074807482), 'unc_one_sigma_bootstrap_frc': np.float64(0.011678470065254293), 'uplift_p5_frc': np.float64(0.050088720575349154), 'uplift_p95_frc': np.float64(0.011669972887193715), 'wind_up_version': '0.1.10', 'test_wtg': 'SMV5', 'test_pw_col': 'test_pw_clipped', 'lt_wtg_hours_raw': 0, 'lt_wtg_hours_filt': 0, 'test_max_ws_drift': np.float64(0.10726609831004863), 'test_max_ws_drift_pp_period': np.float64(0.10726609831004863), 'test_powercurve_shift': np.float64(-0.005678000921447213), 'test_rpm_shift': np.float64(0.0013951853610039144), 'test_pitch_shift': np.float64(-0.02783487184623068), 'preprocess_warning_counts': 0, 'test_warning_counts': 0}\n",
      "warning summary: preprocess_warning_counts=0, test_warning_counts=0, test_ref_warning_counts=0\n",
      "finished analysing SMV5 SMV7\n",
      "\n"
     ]
    },
    {
     "name": "stdout",
     "output_type": "stream",
     "text": [
      "CPU times: total: 5min 54s\n",
      "Wall time: 9min 20s\n"
     ]
    }
   ],
   "source": [
    "%%time\n",
    "from wind_up.main_analysis import run_wind_up_analysis\n",
    "\n",
    "results_per_test_ref_df = run_wind_up_analysis(assessment_inputs)"
   ]
  },
  {
   "cell_type": "code",
   "execution_count": 14,
   "id": "6ce42725-6efb-42b5-b1c2-381687f8c3cb",
   "metadata": {
    "ExecuteTime": {
     "end_time": "2025-04-03T15:51:52.348870Z",
     "start_time": "2025-04-03T15:51:52.295553Z"
    }
   },
   "outputs": [
    {
     "name": "stdout",
     "output_type": "stream",
     "text": [
      "+-----------+-------------+-----------------+----------------------+--------------+-------------+--------------------------+-------------------------+------------------------+\n",
      "|  turbine  |  reference  |  energy uplift  |  uplift uncertainty  |  uplift P95  |  uplift P5  |  valid hours toggle off  |  valid hours toggle on  |  mean power toggle on  |\n",
      "+===========+=============+=================+======================+==============+=============+==========================+=========================+========================+\n",
      "|   SMV6    |    SMV7     |      -1.0%      |         0.6%         |    -2.0%     |    -0.1%    |          132.5           |          136.0          |          1148          |\n",
      "|   SMV5    |    SMV7     |      3.1%       |         1.2%         |     1.2%     |    5.0%     |          133.0           |          137.2          |          994           |\n",
      "+-----------+-------------+-----------------+----------------------+--------------+-------------+--------------------------+-------------------------+------------------------+\n"
     ]
    },
    {
     "data": {
      "text/html": [
       "<div>\n",
       "<style scoped>\n",
       "    .dataframe tbody tr th:only-of-type {\n",
       "        vertical-align: middle;\n",
       "    }\n",
       "\n",
       "    .dataframe tbody tr th {\n",
       "        vertical-align: top;\n",
       "    }\n",
       "\n",
       "    .dataframe thead th {\n",
       "        text-align: right;\n",
       "    }\n",
       "</style>\n",
       "<table border=\"1\" class=\"dataframe\">\n",
       "  <thead>\n",
       "    <tr style=\"text-align: right;\">\n",
       "      <th></th>\n",
       "      <th>turbine</th>\n",
       "      <th>reference</th>\n",
       "      <th>energy uplift</th>\n",
       "      <th>uplift uncertainty</th>\n",
       "      <th>uplift P95</th>\n",
       "      <th>uplift P5</th>\n",
       "      <th>valid hours toggle off</th>\n",
       "      <th>valid hours toggle on</th>\n",
       "      <th>mean power toggle on</th>\n",
       "    </tr>\n",
       "  </thead>\n",
       "  <tbody>\n",
       "    <tr>\n",
       "      <th>0</th>\n",
       "      <td>SMV6</td>\n",
       "      <td>SMV7</td>\n",
       "      <td>-1.0%</td>\n",
       "      <td>0.6%</td>\n",
       "      <td>-2.0%</td>\n",
       "      <td>-0.1%</td>\n",
       "      <td>132.5</td>\n",
       "      <td>136.000000</td>\n",
       "      <td>1148</td>\n",
       "    </tr>\n",
       "    <tr>\n",
       "      <th>1</th>\n",
       "      <td>SMV5</td>\n",
       "      <td>SMV7</td>\n",
       "      <td>3.1%</td>\n",
       "      <td>1.2%</td>\n",
       "      <td>1.2%</td>\n",
       "      <td>5.0%</td>\n",
       "      <td>133.0</td>\n",
       "      <td>137.166667</td>\n",
       "      <td>994</td>\n",
       "    </tr>\n",
       "  </tbody>\n",
       "</table>\n",
       "</div>"
      ],
      "text/plain": [
       "  turbine reference energy uplift uplift uncertainty uplift P95 uplift P5  \\\n",
       "0    SMV6      SMV7         -1.0%               0.6%      -2.0%     -0.1%   \n",
       "1    SMV5      SMV7          3.1%               1.2%       1.2%      5.0%   \n",
       "\n",
       "   valid hours toggle off  valid hours toggle on  mean power toggle on  \n",
       "0                   132.5             136.000000                  1148  \n",
       "1                   133.0             137.166667                   994  "
      ]
     },
     "execution_count": 14,
     "metadata": {},
     "output_type": "execute_result"
    }
   ],
   "source": [
    "from helpers import format_and_print_results_table\n",
    "\n",
    "format_and_print_results_table(results_per_test_ref_df)"
   ]
  },
  {
   "cell_type": "markdown",
   "id": "b8ef10b2-0184-447f-88c9-5c4db850bd6b",
   "metadata": {},
   "source": [
    "## calculate the net uplift of this wake steering test\n",
    "\n",
    "For wake steering we expect the steering turbine uplift to be negative and the benefitting turbine uplift to be positive (which are both true in this example). The steering turbine will almost always be more productive than the benefitting turbine since it is usually in a windier (un-waked) location, therefore the % uplift of the benefitting turbine needs to be much higher than the % loss of the steering turbine for the net uplift to be positive. The function below properly calculates the net uplift and combined uncertainty."
   ]
  },
  {
   "cell_type": "code",
   "execution_count": 15,
   "id": "84e754f7-5808-4846-ac61-1af2b1d83d07",
   "metadata": {
    "ExecuteTime": {
     "end_time": "2025-04-03T15:51:52.816585Z",
     "start_time": "2025-04-03T15:51:52.772277Z"
    }
   },
   "outputs": [
    {
     "data": {
      "text/plain": [
       "'net P50: 0.8%, net P95: -0.2%, net P5: 1.9%'"
      ]
     },
     "execution_count": 15,
     "metadata": {},
     "output_type": "execute_result"
    }
   ],
   "source": [
    "from wind_up.combine_results import calc_net_uplift\n",
    "\n",
    "net_p50, net_p95, net_p5 = calc_net_uplift(results_per_test_ref_df, confidence=0.9)\n",
    "f\"net P50: {net_p50:.1%}, net P95: {net_p95:.1%}, net P5: {net_p5:.1%}\""
   ]
  }
 ],
 "metadata": {
  "kernelspec": {
   "display_name": "Python 3 (ipykernel)",
   "language": "python",
   "name": "python3"
  },
  "language_info": {
   "codemirror_mode": {
    "name": "ipython",
    "version": 3
   },
   "file_extension": ".py",
   "mimetype": "text/x-python",
   "name": "python",
   "nbconvert_exporter": "python",
   "pygments_lexer": "ipython3",
   "version": "3.12.6"
  }
 },
 "nbformat": 4,
 "nbformat_minor": 5
}
